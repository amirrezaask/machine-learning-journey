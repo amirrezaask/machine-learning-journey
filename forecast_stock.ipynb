{
 "cells": [
  {
   "cell_type": "code",
   "execution_count": 33,
   "id": "bottom-expansion",
   "metadata": {},
   "outputs": [],
   "source": [
    "import quandl\n",
    "df = quandl.get(\"WIKI/GOOGL\")"
   ]
  },
  {
   "cell_type": "code",
   "execution_count": 34,
   "id": "reflected-photography",
   "metadata": {},
   "outputs": [],
   "source": [
    "df = df[['Close', 'High', 'Low', 'Volume']]\n",
    "import math\n",
    "df['label'] = df['Close'].shift(-(math.ceil(0.01*len(df))))"
   ]
  },
  {
   "cell_type": "code",
   "execution_count": 35,
   "id": "understood-belle",
   "metadata": {},
   "outputs": [],
   "source": [
    "df.dropna(inplace=True)"
   ]
  },
  {
   "cell_type": "code",
   "execution_count": 36,
   "id": "analyzed-eleven",
   "metadata": {},
   "outputs": [
    {
     "data": {
      "text/html": [
       "<div>\n",
       "<style scoped>\n",
       "    .dataframe tbody tr th:only-of-type {\n",
       "        vertical-align: middle;\n",
       "    }\n",
       "\n",
       "    .dataframe tbody tr th {\n",
       "        vertical-align: top;\n",
       "    }\n",
       "\n",
       "    .dataframe thead th {\n",
       "        text-align: right;\n",
       "    }\n",
       "</style>\n",
       "<table border=\"1\" class=\"dataframe\">\n",
       "  <thead>\n",
       "    <tr style=\"text-align: right;\">\n",
       "      <th></th>\n",
       "      <th>Close</th>\n",
       "      <th>High</th>\n",
       "      <th>Low</th>\n",
       "      <th>Volume</th>\n",
       "      <th>label</th>\n",
       "    </tr>\n",
       "    <tr>\n",
       "      <th>Date</th>\n",
       "      <th></th>\n",
       "      <th></th>\n",
       "      <th></th>\n",
       "      <th></th>\n",
       "      <th></th>\n",
       "    </tr>\n",
       "  </thead>\n",
       "  <tbody>\n",
       "    <tr>\n",
       "      <th>2004-08-19</th>\n",
       "      <td>100.335</td>\n",
       "      <td>104.06</td>\n",
       "      <td>95.96</td>\n",
       "      <td>44659000.0</td>\n",
       "      <td>137.73</td>\n",
       "    </tr>\n",
       "    <tr>\n",
       "      <th>2004-08-20</th>\n",
       "      <td>108.310</td>\n",
       "      <td>109.08</td>\n",
       "      <td>100.50</td>\n",
       "      <td>22834300.0</td>\n",
       "      <td>135.26</td>\n",
       "    </tr>\n",
       "    <tr>\n",
       "      <th>2004-08-23</th>\n",
       "      <td>109.400</td>\n",
       "      <td>113.48</td>\n",
       "      <td>109.05</td>\n",
       "      <td>18256100.0</td>\n",
       "      <td>137.40</td>\n",
       "    </tr>\n",
       "    <tr>\n",
       "      <th>2004-08-24</th>\n",
       "      <td>104.870</td>\n",
       "      <td>111.60</td>\n",
       "      <td>103.57</td>\n",
       "      <td>15247300.0</td>\n",
       "      <td>140.90</td>\n",
       "    </tr>\n",
       "    <tr>\n",
       "      <th>2004-08-25</th>\n",
       "      <td>106.000</td>\n",
       "      <td>108.00</td>\n",
       "      <td>103.88</td>\n",
       "      <td>9188600.0</td>\n",
       "      <td>142.00</td>\n",
       "    </tr>\n",
       "    <tr>\n",
       "      <th>...</th>\n",
       "      <td>...</td>\n",
       "      <td>...</td>\n",
       "      <td>...</td>\n",
       "      <td>...</td>\n",
       "      <td>...</td>\n",
       "    </tr>\n",
       "    <tr>\n",
       "      <th>2018-01-30</th>\n",
       "      <td>1177.370</td>\n",
       "      <td>1187.93</td>\n",
       "      <td>1174.51</td>\n",
       "      <td>1792602.0</td>\n",
       "      <td>1094.00</td>\n",
       "    </tr>\n",
       "    <tr>\n",
       "      <th>2018-01-31</th>\n",
       "      <td>1182.220</td>\n",
       "      <td>1186.32</td>\n",
       "      <td>1172.10</td>\n",
       "      <td>1643877.0</td>\n",
       "      <td>1053.15</td>\n",
       "    </tr>\n",
       "    <tr>\n",
       "      <th>2018-02-01</th>\n",
       "      <td>1181.590</td>\n",
       "      <td>1187.45</td>\n",
       "      <td>1169.36</td>\n",
       "      <td>2774967.0</td>\n",
       "      <td>1026.55</td>\n",
       "    </tr>\n",
       "    <tr>\n",
       "      <th>2018-02-02</th>\n",
       "      <td>1119.200</td>\n",
       "      <td>1131.30</td>\n",
       "      <td>1111.17</td>\n",
       "      <td>5798880.0</td>\n",
       "      <td>1054.09</td>\n",
       "    </tr>\n",
       "    <tr>\n",
       "      <th>2018-02-05</th>\n",
       "      <td>1068.760</td>\n",
       "      <td>1114.99</td>\n",
       "      <td>1056.74</td>\n",
       "      <td>3742469.0</td>\n",
       "      <td>1006.94</td>\n",
       "    </tr>\n",
       "  </tbody>\n",
       "</table>\n",
       "<p>3389 rows × 5 columns</p>\n",
       "</div>"
      ],
      "text/plain": [
       "               Close     High      Low      Volume    label\n",
       "Date                                                       \n",
       "2004-08-19   100.335   104.06    95.96  44659000.0   137.73\n",
       "2004-08-20   108.310   109.08   100.50  22834300.0   135.26\n",
       "2004-08-23   109.400   113.48   109.05  18256100.0   137.40\n",
       "2004-08-24   104.870   111.60   103.57  15247300.0   140.90\n",
       "2004-08-25   106.000   108.00   103.88   9188600.0   142.00\n",
       "...              ...      ...      ...         ...      ...\n",
       "2018-01-30  1177.370  1187.93  1174.51   1792602.0  1094.00\n",
       "2018-01-31  1182.220  1186.32  1172.10   1643877.0  1053.15\n",
       "2018-02-01  1181.590  1187.45  1169.36   2774967.0  1026.55\n",
       "2018-02-02  1119.200  1131.30  1111.17   5798880.0  1054.09\n",
       "2018-02-05  1068.760  1114.99  1056.74   3742469.0  1006.94\n",
       "\n",
       "[3389 rows x 5 columns]"
      ]
     },
     "execution_count": 36,
     "metadata": {},
     "output_type": "execute_result"
    }
   ],
   "source": [
    "df"
   ]
  },
  {
   "cell_type": "code",
   "execution_count": 37,
   "id": "fifth-wisdom",
   "metadata": {},
   "outputs": [],
   "source": [
    "import numpy as np\n",
    "X = np.array(df.drop('label', 1))\n",
    "y = np.array(df['label'])"
   ]
  },
  {
   "cell_type": "code",
   "execution_count": 45,
   "id": "nasty-desire",
   "metadata": {},
   "outputs": [],
   "source": [
    "from sklearn import preprocessing\n",
    "\n",
    "X = preprocessing.scale(X)"
   ]
  },
  {
   "cell_type": "code",
   "execution_count": 46,
   "id": "reflected-september",
   "metadata": {},
   "outputs": [],
   "source": [
    "from sklearn.model_selection import train_test_split\n",
    "X_train, X_test, y_train, y_test = train_test_split(X, y, test_size=0.2)"
   ]
  },
  {
   "cell_type": "code",
   "execution_count": 47,
   "id": "mature-athens",
   "metadata": {},
   "outputs": [],
   "source": [
    "from sklearn.linear_model import LinearRegression\n",
    "reg = LinearRegression().fit(X_train, y_train)"
   ]
  },
  {
   "cell_type": "code",
   "execution_count": 48,
   "id": "oriented-raise",
   "metadata": {},
   "outputs": [
    {
     "name": "stdout",
     "output_type": "stream",
     "text": [
      "0.8126496696909526\n"
     ]
    }
   ],
   "source": [
    "print(reg.score(X_test, y_test))"
   ]
  }
 ],
 "metadata": {
  "kernelspec": {
   "display_name": "Python 3",
   "language": "python",
   "name": "python3"
  },
  "language_info": {
   "codemirror_mode": {
    "name": "ipython",
    "version": 3
   },
   "file_extension": ".py",
   "mimetype": "text/x-python",
   "name": "python",
   "nbconvert_exporter": "python",
   "pygments_lexer": "ipython3",
   "version": "3.9.2"
  }
 },
 "nbformat": 4,
 "nbformat_minor": 5
}
